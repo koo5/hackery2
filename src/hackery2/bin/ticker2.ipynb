{
 "cells": [
  {
   "cell_type": "code",
   "execution_count": null,
   "outputs": [],
   "source": [],
   "metadata": {
    "collapsed": false,
    "pycharm": {
     "name": "#%%\n"
    }
   }
  },
  {
   "cell_type": "code",
   "execution_count": null,
   "outputs": [],
   "source": [
    "\n",
    "\n",
    "import os, sys, time, json\n",
    "from subprocess import check_output\n",
    "import os,subprocess,time,shlex,logging\n",
    "\n",
    "\n",
    "\n",
    "\n",
    "l = logging.getLogger()\n",
    "\n",
    "\n",
    "l.setLevel(logging.DEBUG)\n",
    "l.addHandler(logging.StreamHandler())\n",
    "\n",
    "\n",
    "sq = shlex.quote\n",
    "ss = shlex.split\n",
    "\n",
    "\n",
    "\n",
    "def co(cmd):\n",
    "\treturn subprocess.check_output(cmd, text=True, universal_newlines=True)\n",
    "def goe(cmd):\n",
    "\treturn subprocess.run(cmd, text=True, stdout=subprocess.PIPE,stderr=subprocess.PIPE, universal_newlines=True).stdout\n",
    "def cc(cmd):\n",
    "\treturn subprocess.check_call(cmd, text=True, universal_newlines=True)\n",
    "\n",
    "def ccss(cmd):\n",
    "\treturn cc(ss(cmd))\n",
    "\n",
    "\n"
   ],
   "metadata": {
    "collapsed": false,
    "pycharm": {
     "name": "#%%\n"
    }
   }
  },
  {
   "cell_type": "code",
   "execution_count": null,
   "outputs": [],
   "source": [
    "\n",
    "\n",
    "\n",
    "t_txt = os.path.expanduser('~/ticker.txt')\n",
    "t_json = os.path.expanduser('~/ticker.json')\n",
    "\n",
    "def save_state():\n",
    "\tjson.dump({\n",
    "\t\t'source_num':source_num,\n",
    "\t\t'on_this_line_since': on_this_line_since\n",
    "\t}, open(t_json,'w'))\n",
    "\n",
    "\n",
    "def out(text):\n",
    "\twith open(t_txt,'a') as f:\n",
    "\t\tprint(text, file=f)\n",
    "\n",
    "now = time.time()"
   ],
   "metadata": {
    "collapsed": false,
    "pycharm": {
     "name": "#%%\n"
    }
   }
  },
  {
   "cell_type": "code",
   "execution_count": null,
   "outputs": [],
   "source": [
    "\n",
    "os.system('touch '+t_txt)\n",
    "with open(t_txt) as f:\n",
    "\ttxt = [l.strip() for l in f.readlines()]\n",
    "\n",
    "\n",
    "status = json.load(open(t_json))\n",
    "on_this_line_since = status.get('on_this_line_since', now)\n",
    "source_num = status.get('source_num', -1)\n",
    "\n",
    "\n"
   ],
   "metadata": {
    "collapsed": false,
    "pycharm": {
     "name": "#%%\n"
    }
   }
  },
  {
   "cell_type": "code",
   "execution_count": null,
   "outputs": [],
   "source": [
    "\n",
    "\n",
    "\n",
    "def populate_ticker():\n",
    "\tglobal source_num\n",
    "\tsource_num += 1\n",
    "\tsave_state()\n",
    "\n",
    "\tif source_num <= 5:\n",
    "\n",
    "\t\tprint(time.asctime())\n",
    "\t\texit()\n",
    "\n",
    "\telif source_num < 100 and source_num > 5:\n",
    "\t\tsource_num = 100\n",
    "\telif source_num == 100:\n",
    "\n",
    "\t\tjupyter_kernel_probable_ports_lines = goe(['/bin/bash', '-c', \"sudo netstat -nlpt | grep 8888 | grep python\"]).splitlines()\n",
    "\t\tif not jupyter_kernel_probable_ports_lines == []:\n",
    "\t\t\tout('\\n'.join(['jupyter_kernel_probable_ports_lines:']+jupyter_kernel_probable_ports_lines))\n",
    "\n",
    "\telif source_num == 101:\n",
    "\n",
    "\t\tout(goe(['/usr/bin/fish', '-c', \"cd ~/lodgeit2/master2; pwd; gs; gd\"]))\n",
    "\n",
    "\telse:\n",
    "\t\tsource_num = -1\n",
    "\n",
    "\n"
   ],
   "metadata": {
    "collapsed": false,
    "pycharm": {
     "name": "#%%\n"
    }
   }
  },
  {
   "cell_type": "code",
   "execution_count": null,
   "outputs": [],
   "source": [
    "\n",
    "\n",
    "\n",
    "if txt == []:\n",
    "\tpopulate_ticker()\n",
    "\ton_this_line_since = now\n",
    "else:\n",
    "\tif now - on_this_line_since > len(txt[0]) / 15:\n",
    "\t\t#l.info('#delete the first line')\n",
    "\t\t#l.info((txt))\n",
    "\t\tnew_txt = '\\n'.join(txt[1:])\n",
    "\t\t#l.info('#delete the first line')\n",
    "\t\t#l.info((new_txt))\n",
    "\t\twith open(t_txt,'w') as f:\n",
    "\t\t\tf.write(new_txt)\n",
    "\t\ton_this_line_since = now\n",
    "\n",
    "\n",
    "save_state()\n",
    "\n",
    "\n",
    "\n",
    "print(open(os.path.expanduser('~/ticker.txt')).read())\n"
   ],
   "metadata": {
    "collapsed": false,
    "pycharm": {
     "name": "#%%\n"
    }
   }
  },
  {
   "cell_type": "code",
   "execution_count": null,
   "outputs": [],
   "source": [],
   "metadata": {
    "collapsed": false,
    "pycharm": {
     "name": "#%%\n"
    }
   }
  }
 ],
 "metadata": {
  "kernelspec": {
   "display_name": "Python 3",
   "language": "python",
   "name": "python3"
  },
  "language_info": {
   "codemirror_mode": {
    "name": "ipython",
    "version": 2
   },
   "file_extension": ".py",
   "mimetype": "text/x-python",
   "name": "python",
   "nbconvert_exporter": "python",
   "pygments_lexer": "ipython2",
   "version": "2.7.6"
  }
 },
 "nbformat": 4,
 "nbformat_minor": 0
}